{
 "cells": [
  {
   "cell_type": "code",
   "execution_count": null,
   "id": "80793dbf",
   "metadata": {},
   "outputs": [],
   "source": [
    "import numpy as np\n",
    "import matplotlib.pyplot as plt\n",
    "from pysrim import dose, Ion, Layer"
   ]
  },
  {
   "cell_type": "code",
   "execution_count": null,
   "id": "30423495",
   "metadata": {},
   "outputs": [],
   "source": [
    "ion = Ion('H', energy=34.7e6)\n",
    "\n",
    "layer = Layer(\n",
    "    elements={\n",
    "        'Al': {\n",
    "            'stoich':   1.0,\n",
    "            'E_d':     25.0, # Displacement energy [eV], common default\n",
    "            'lattice':  0.0, # Lattice binding energy [eV]\n",
    "            'surface': 3.36  # Surface binding energy [eV]\n",
    "        }\n",
    "    },\n",
    "    density=2.702,          # Aluminium density in g/cm^3\n",
    "    width=3.0e7,             # 1 mm in Angstroms\n",
    "    name=\"Aluminium\"\n",
    ")\n",
    "\n",
    "res_E = dose.residual_energy(ion, layer)\n",
    "print(f\"Residual energy after traversing through {layer.name} layer {layer.width:.2e} Angstroms thick: {res_E:.2f} MeV\")"
   ]
  },
  {
   "cell_type": "code",
   "execution_count": null,
   "id": "34935f95",
   "metadata": {},
   "outputs": [],
   "source": [
    "depths_mm = np.linspace(0,10,100)\n",
    "residual_energies = dose.residual_energy(ion, layer, depths_mm)\n",
    "plt.plot(depths_mm, residual_energies)\n",
    "plt.xlabel(\"Depth in Al (cm)\")\n",
    "plt.ylabel(\"Proton Energy (MeV)\")\n",
    "plt.title(\"Proton Energy vs. Depth in Aluminum\")\n",
    "plt.grid(True)\n",
    "plt.show()"
   ]
  },
  {
   "cell_type": "code",
   "execution_count": null,
   "id": "2b75b568",
   "metadata": {},
   "outputs": [],
   "source": [
    "srim_executable_directory = '/Users/mdovale/Applications/srim' \n",
    "\n",
    "ion = Ion('H', energy=50e6)\n",
    "\n",
    "layer = Layer(\n",
    "    elements={\n",
    "        'Al': {\n",
    "            'stoich':   1.0,\n",
    "            'E_d':     25.0, # Displacement energy [eV], common default\n",
    "            'lattice':  0.0, # Lattice binding energy [eV]\n",
    "            'surface': 3.36  # Surface binding energy [eV]\n",
    "        }\n",
    "    },\n",
    "    density=2.702,          # Aluminium density in g/cm^3\n",
    "    width=1.0e7,             # 1 mm in Angstroms\n",
    "    name=\"Aluminium\"\n",
    ")\n",
    "\n",
    "import copy\n",
    "stack = [copy.deepcopy(layer) for _ in range(3)]\n",
    "\n",
    "dose.residual_energy_through_stack(ion, stack, verbose=True)"
   ]
  },
  {
   "cell_type": "code",
   "execution_count": null,
   "id": "0122d9fa",
   "metadata": {},
   "outputs": [],
   "source": [
    "ion = Ion('H', energy=45e6)\n",
    "\n",
    "layer = Layer(\n",
    "    elements={\n",
    "        'Al': {\n",
    "            'stoich':   1.0,\n",
    "            'E_d':     25.0, # Displacement energy [eV], common default\n",
    "            'lattice':  0.0, # Lattice binding energy [eV]\n",
    "            'surface': 3.36  # Surface binding energy [eV]\n",
    "        }\n",
    "    },\n",
    "    density=2.702,          # Aluminium density in g/cm^3\n",
    "    width=3.0e7,             # 1 mm in Angstroms\n",
    "    name=\"Aluminium\"\n",
    ")\n",
    "\n",
    "dose.compute_tid(ion, [layer], 3e10, verbose=True)"
   ]
  },
  {
   "cell_type": "code",
   "execution_count": null,
   "id": "b905597b",
   "metadata": {},
   "outputs": [],
   "source": [
    "al_widths = np.arange(100) / 10  # 0 to 9.9 mm in 0.1 mm steps\n",
    "fluence = 1e10  # ions/cm²\n",
    "\n",
    "res_E, doses = dose.sweep_al_shield_dose(\n",
    "    al_thicknesses_mm=al_widths,\n",
    "    fluence=fluence,\n",
    ")"
   ]
  },
  {
   "cell_type": "code",
   "execution_count": null,
   "id": "59e305cf",
   "metadata": {},
   "outputs": [],
   "source": [
    "# Create figure and axis\n",
    "fig, ax1 = plt.subplots(figsize=(9, 6))\n",
    "\n",
    "# Plot Dose on left y-axis (red)\n",
    "ax1.set_xlabel(\"Aluminum thickness (mm)\", fontsize=12)\n",
    "ax1.set_ylabel(\"Dose (rad Si)\", color='red', fontsize=12)\n",
    "ax1.plot(al_widths, doses, 'r-', linewidth=2.5, label=\"Dose\")\n",
    "ax1.tick_params(axis='y', labelcolor='red')\n",
    "ax1.set_ylim(0, max(doses)*1.1)\n",
    "\n",
    "# Plot Residual Energy on right y-axis (blue)\n",
    "ax2 = ax1.twinx()\n",
    "ax2.set_ylabel(\"Residual energy (MeV)\", color='blue', fontsize=12)\n",
    "ax2.plot(al_widths, res_E, 'b-', linewidth=2.5, label=\"Residual energy\")\n",
    "ax2.tick_params(axis='y', labelcolor='blue')\n",
    "ax2.set_ylim(0, 50)\n",
    "\n",
    "# Annotate fluence and beam energy\n",
    "ax1.text(\n",
    "    0.5, 0.95,\n",
    "    r\"$10^{10}$ protons/cm$^2$ @ 45 MeV\",\n",
    "    transform=ax1.transAxes,\n",
    "    ha='center', va='top',\n",
    "    fontsize=13,\n",
    "    bbox=dict(facecolor='white', edgecolor='black')\n",
    ")\n",
    "\n",
    "# Combine legends from both axes\n",
    "lines = ax1.get_lines() + ax2.get_lines()\n",
    "labels = [line.get_label() for line in lines]\n",
    "ax1.legend(lines, labels, loc='center left', edgecolor='black', fancybox=True, shadow=True, framealpha=1)\n",
    "\n",
    "# Grid and axis ticks\n",
    "ax1.grid(True, axis='x', linestyle='--', linewidth=0.5)\n",
    "ax1.set_xticks(np.arange(0, 11, 1))\n",
    "ax1.set_xlim(0, 10)\n",
    "\n",
    "# Title and layout\n",
    "plt.title(\"Dose and Residual Energy vs. Aluminum Shielding\", fontsize=14)\n",
    "plt.tight_layout()\n",
    "plt.show()"
   ]
  },
  {
   "cell_type": "code",
   "execution_count": null,
   "id": "5178ff9d",
   "metadata": {},
   "outputs": [],
   "source": []
  }
 ],
 "metadata": {
  "kernelspec": {
   "display_name": "main",
   "language": "python",
   "name": "python3"
  },
  "language_info": {
   "codemirror_mode": {
    "name": "ipython",
    "version": 3
   },
   "file_extension": ".py",
   "mimetype": "text/x-python",
   "name": "python",
   "nbconvert_exporter": "python",
   "pygments_lexer": "ipython3",
   "version": "3.12.0"
  }
 },
 "nbformat": 4,
 "nbformat_minor": 5
}
