{
 "cells": [
  {
   "cell_type": "code",
   "execution_count": 1,
   "id": "80793dbf",
   "metadata": {},
   "outputs": [],
   "source": [
    "import numpy as np\n",
    "import matplotlib.pyplot as plt\n",
    "from pysrim import dose, Ion, Layer"
   ]
  },
  {
   "cell_type": "markdown",
   "id": "8105f65f",
   "metadata": {},
   "source": [
    "# Useful layer definitions"
   ]
  },
  {
   "cell_type": "code",
   "execution_count": 2,
   "id": "e54036e1",
   "metadata": {},
   "outputs": [],
   "source": [
    "mils_to_mm = 0.0254        # 1 mil = 0.0254 mm\n",
    "mm_to_angs = 1e7           # 1 mm = 10,000,000 Å (angstroms)\n",
    "\n",
    "al_layer = Layer(\n",
    "    elements={\n",
    "        'Al': {\n",
    "            'stoich':   1.0,\n",
    "            'E_d':     25.0, # Displacement energy [eV], common default\n",
    "            'lattice':  0.0, # Lattice binding energy [eV]\n",
    "            'surface': 3.36  # Surface binding energy [eV]\n",
    "        }\n",
    "    },\n",
    "    density=2.702,\n",
    "    width=3.0 * mils_to_mm * mm_to_angs,\n",
    "    name=\"Aluminium\"\n",
    ")\n",
    "\n",
    "air_layer = Layer(\n",
    "    elements={\n",
    "        'N': {'stoich': 0.755},\n",
    "        'O': {'stoich': 0.232},\n",
    "        'Ar': {'stoich': 0.013}\n",
    "    },\n",
    "    density=0.00125,\n",
    "    width=80.0 * mm_to_angs,\n",
    "    phase=1,  # gas\n",
    "    name = \"Air gas\"\n",
    ")\n",
    "\n",
    "cu_layer = Layer(\n",
    "    elements={\n",
    "        'Cu': {'stoich': 1.00},\n",
    "    },\n",
    "    density=8.96,\n",
    "    width=0.46 * mm_to_angs,\n",
    "    name=\"Copper\"\n",
    ")\n",
    "\n",
    "kovar_layer = Layer(\n",
    "    elements={\n",
    "        'Fe': {'stoich': 0.534912},\n",
    "        'Ni': {'stoich': 0.293292},\n",
    "        'Co': {'stoich': 0.171795},\n",
    "    },\n",
    "    density=8.36,\n",
    "    width=0.9 * mm_to_angs,\n",
    "    name=\"Kovar layer\"\n",
    ")"
   ]
  },
  {
   "cell_type": "markdown",
   "id": "c3b2baac",
   "metadata": {},
   "source": [
    "# Example: CSDA energy and range"
   ]
  },
  {
   "cell_type": "code",
   "execution_count": null,
   "id": "5789c2cc",
   "metadata": {},
   "outputs": [],
   "source": [
    "ion = Ion('H', energy=25.0e6)\n",
    "layer = kovar_layer\n",
    "\n",
    "res_E, range_in, range_out = dose.csda_energy_and_range(ion, layer)\n",
    "print(f\"Residual energy after traversing through {layer.name}: {res_E:.2f} MeV\")\n",
    "print(f\"Range in the material: {range_in:.2f} mm\")\n",
    "print(f\"Range left after traversing the material: {range_out*1e3:.2f} um\")"
   ]
  },
  {
   "cell_type": "code",
   "execution_count": null,
   "id": "fd9dda58",
   "metadata": {},
   "outputs": [],
   "source": [
    "depths_mm = np.linspace(0,1.5,100)\n",
    "residual_energies, range_in, range_out = dose.csda_energy_and_range(ion, layer, depths_mm)\n",
    "plt.plot(depths_mm, residual_energies)\n",
    "plt.axvline(x=range_in, ls='--', c='k')\n",
    "plt.xlabel(\"Depth in Al (mm)\")\n",
    "plt.ylabel(\"Proton Energy (MeV)\")\n",
    "plt.title(\"Proton Energy vs. Depth in Aluminum\")\n",
    "plt.grid(True)\n",
    "plt.show()"
   ]
  },
  {
   "cell_type": "markdown",
   "id": "72df4877",
   "metadata": {},
   "source": [
    "# Example: Ion traversing through layer stack: FPGA"
   ]
  },
  {
   "cell_type": "code",
   "execution_count": null,
   "id": "30423495",
   "metadata": {},
   "outputs": [],
   "source": [
    "ion = Ion('H', energy=45.0e6)\n",
    "\n",
    "stack = [al_layer, air_layer, cu_layer]\n",
    "\n",
    "E, vE, range_out = dose.energy_profile_through_stack(ion, stack, verbose=True)\n",
    "print(f\"Residual energy after traversing through stack:: {E:.2f} MeV\")\n",
    "print(f\"Range left in silicon after traversing the stack: {range_out*1e3:.2f} um\")"
   ]
  },
  {
   "cell_type": "markdown",
   "id": "9d8dc0ca",
   "metadata": {},
   "source": [
    "## Granular sampling"
   ]
  },
  {
   "cell_type": "code",
   "execution_count": null,
   "id": "34935f95",
   "metadata": {},
   "outputs": [],
   "source": [
    "final_energy, energy_profile, range_left = dose.energy_profile_through_stack(\n",
    "    ion,\n",
    "    stack,\n",
    "    verbose=True,\n",
    "    granular=30\n",
    ")\n",
    "\n",
    "print(f\"\\nFinal energy: {final_energy:.2f} MeV\")\n",
    "print(f\"Range left in silicon: {range_left:.2f} mm\")"
   ]
  },
  {
   "cell_type": "code",
   "execution_count": null,
   "id": "0bba299a",
   "metadata": {},
   "outputs": [],
   "source": [
    "dose.plot_energy_profile(energy_profile, stack)"
   ]
  },
  {
   "cell_type": "markdown",
   "id": "5178ff9d",
   "metadata": {},
   "source": [
    "# Example: dose calculation: laser diode inside kovar package"
   ]
  },
  {
   "cell_type": "code",
   "execution_count": null,
   "id": "c577770e",
   "metadata": {},
   "outputs": [],
   "source": [
    "ion = Ion('H', energy=25.0e6)\n",
    "\n",
    "stack = [al_layer, air_layer, kovar_layer]\n",
    "\n",
    "E, vE, range_out = dose.residual_energy_through_stack(ion, stack, verbose=True)\n",
    "print(f\"Residual energy after traversing through stack:: {E:.2f} MeV\")\n",
    "print(f\"Range after the material: {range_out*1e3:.2f} um\")"
   ]
  },
  {
   "cell_type": "code",
   "execution_count": null,
   "id": "5fa2496d",
   "metadata": {},
   "outputs": [],
   "source": [
    "residual_E, ion_range_mm, tid = dose.compute_tid_silicon(ion, stack, 2e7*300, verbose=True)"
   ]
  },
  {
   "cell_type": "code",
   "execution_count": null,
   "id": "8bad85b2",
   "metadata": {},
   "outputs": [],
   "source": []
  },
  {
   "cell_type": "code",
   "execution_count": null,
   "id": "3fdc04a7",
   "metadata": {},
   "outputs": [],
   "source": []
  }
 ],
 "metadata": {
  "kernelspec": {
   "display_name": "main",
   "language": "python",
   "name": "python3"
  },
  "language_info": {
   "codemirror_mode": {
    "name": "ipython",
    "version": 3
   },
   "file_extension": ".py",
   "mimetype": "text/x-python",
   "name": "python",
   "nbconvert_exporter": "python",
   "pygments_lexer": "ipython3",
   "version": "3.12.0"
  }
 },
 "nbformat": 4,
 "nbformat_minor": 5
}
