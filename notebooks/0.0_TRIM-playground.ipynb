{
 "cells": [
  {
   "cell_type": "code",
   "execution_count": 1,
   "id": "947f9f9c",
   "metadata": {},
   "outputs": [],
   "source": [
    "import numpy as np\n",
    "import matplotlib.pyplot as plt\n",
    "from pysrim import TRIM, SR, Ion, Element, Layer, Target\n",
    "from pysrim.output import Results"
   ]
  },
  {
   "cell_type": "code",
   "execution_count": null,
   "id": "f764d89c",
   "metadata": {},
   "outputs": [],
   "source": [
    "# Constants\n",
    "micron_to_angstrom = 1e4\n",
    "mm_to_angstrom = 1e7\n",
    "\n",
    "# Layers\n",
    "\n",
    "# 1. Al Shield (1 mm)\n",
    "shield_layer = Layer(\n",
    "    elements={'Al': {'stoich': 1.0}},\n",
    "    density=2.70,\n",
    "    width=1.0 * mm_to_angstrom  # 1 mm = 1e7 Å\n",
    ")\n",
    "\n",
    "# 2. DUT (Si)\n",
    "dut_layer = Layer(\n",
    "    elements={'Si': {'stoich': 1.0}},\n",
    "    density=2.33,\n",
    "    width=10.0 * mm_to_angstrom  # 1 μm = 1e4 Å\n",
    ")\n",
    "\n",
    "# Include or exclude the shield depending on experiment\n",
    "layers = [shield_layer, dut_layer]\n",
    "\n",
    "widths = [layer.width for layer in layers]\n",
    "offsets = np.concatenate(([0], np.cumsum(widths)))\n",
    "\n",
    "# Create the full target\n",
    "target = Target(layers=layers)"
   ]
  },
  {
   "cell_type": "code",
   "execution_count": null,
   "id": "b5c28a18",
   "metadata": {},
   "outputs": [],
   "source": [
    "ion = Ion('H', energy=45.0e6)\n",
    "\n",
    "# Initialize a TRIM calculation with given target and ion for 25 ions, quick calculation\n",
    "trim = TRIM(target, ion, number_ions=500, calculation=2)\n",
    "\n",
    "# Takes about 10 seconds on my laptop\n",
    "results = trim.run()"
   ]
  },
  {
   "cell_type": "code",
   "execution_count": null,
   "id": "e2ae5bb4",
   "metadata": {},
   "outputs": [],
   "source": [
    "results = Results(\"/Users/mdovale/Applications/srim\")\n",
    "output_directory = '/Users/mdovale/Applications/srim_data'\n",
    "TRIM.copy_output_files('/Users/mdovale/Applications/srim', output_directory)"
   ]
  },
  {
   "cell_type": "code",
   "execution_count": null,
   "id": "624c8b24",
   "metadata": {},
   "outputs": [],
   "source": [
    "import pandas as pd\n",
    "\n",
    "df = pd.read_csv(output_directory+'/IONIZ.txt', \n",
    "                 skiprows=40, \n",
    "                 sep='  ', \n",
    "                 names=['depth', 'ions', 'recoils'], \n",
    "                 engine='python')\n",
    "\n",
    "df"
   ]
  },
  {
   "cell_type": "code",
   "execution_count": null,
   "id": "79c40b6c",
   "metadata": {},
   "outputs": [],
   "source": [
    "ax = df.plot(x='depth', y='ions')\n",
    "ax.vlines(offsets, ymin=0, ymax=1, color='k', ls='--')\n",
    "\n",
    "box = ax.get_position()\n",
    "ax.set_position([box.x0, box.y0, box.width * 0.8, box.height])\n",
    "ax.legend(loc='center left', bbox_to_anchor=(1, 0.5))\n",
    "ax.set_yscale('log')\n",
    "# ax.set_xscale('log')\n",
    "# ax.set_xlim(1e8,1e9)\n",
    "plt.grid(which='both')\n",
    "plt.tight_layout()\n",
    "plt.savefig('00.pdf')\n",
    "plt.show()\n"
   ]
  },
  {
   "cell_type": "code",
   "execution_count": null,
   "id": "7add69d2",
   "metadata": {},
   "outputs": [],
   "source": []
  }
 ],
 "metadata": {
  "kernelspec": {
   "display_name": "main",
   "language": "python",
   "name": "python3"
  },
  "language_info": {
   "codemirror_mode": {
    "name": "ipython",
    "version": 3
   },
   "file_extension": ".py",
   "mimetype": "text/x-python",
   "name": "python",
   "nbconvert_exporter": "python",
   "pygments_lexer": "ipython3",
   "version": "3.12.0"
  }
 },
 "nbformat": 4,
 "nbformat_minor": 5
}
